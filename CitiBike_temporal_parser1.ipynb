{
 "cells": [
  {
   "cell_type": "code",
   "execution_count": 1,
   "metadata": {
    "collapsed": true
   },
   "outputs": [],
   "source": [
    "import pandas as pd, numpy as np, matplotlib.pyplot as plt, datetime,  statsmodels.formula.api as smf, matplotlib.dates as mdates\n",
    "from zipfile import ZipFile\n",
    "from StringIO import StringIO\n",
    "from scipy import stats\n",
    "import urllib2\n",
    "%matplotlib inline\n",
    "plt.style.use('ggplot')"
   ]
  },
  {
   "cell_type": "code",
   "execution_count": 2,
   "metadata": {
    "collapsed": true
   },
   "outputs": [],
   "source": [
    "bike_months2 = [\n",
    "    '201307',\n",
    "    '201308',\n",
    "    '201309',\n",
    "    '201310',\n",
    "    '201311',\n",
    "    '201312',\n",
    "    '201401',\n",
    "    '201402',\n",
    "    '201403',\n",
    "    '201404',\n",
    "    '201405',\n",
    "    '201406',\n",
    "    '201407',\n",
    "    '201408'\n",
    "]"
   ]
  },
  {
   "cell_type": "code",
   "execution_count": 3,
   "metadata": {
    "collapsed": true
   },
   "outputs": [],
   "source": [
    "bike_months = [\n",
    "    '201409',\n",
    "    '201410',\n",
    "    '201411',\n",
    "    '201412',\n",
    "    '201501',\n",
    "    '201502',\n",
    "    '201503',\n",
    "    '201504',\n",
    "    '201505',\n",
    "    '201506',\n",
    "    '201507',\n",
    "    '201508',\n",
    "    '201509',\n",
    "    '201510',\n",
    "    '201511'\n",
    "]"
   ]
  },
  {
   "cell_type": "code",
   "execution_count": 4,
   "metadata": {
    "collapsed": false
   },
   "outputs": [
    {
     "data": {
      "text/plain": [
       "{'201409': 953887,\n",
       " '201410': 828711,\n",
       " '201411': 529188,\n",
       " '201412': 399069,\n",
       " '201501': 285552,\n",
       " '201502': 196930,\n",
       " '201503': 341826,\n",
       " '201504': 652390,\n",
       " '201505': 961986,\n",
       " '201506': 941219,\n",
       " '201507': 1085676,\n",
       " '201508': 1179044,\n",
       " '201509': 1289699,\n",
       " '201510': 1212277,\n",
       " '201511': 987245}"
      ]
     },
     "execution_count": 4,
     "metadata": {},
     "output_type": "execute_result"
    }
   ],
   "source": [
    "bike_dict = {}\n",
    "for m in bike_months:\n",
    "    url = 'https://s3.amazonaws.com/tripdata/%s-citibike-tripdata.zip'%m\n",
    "    r = urllib2.urlopen(url).read()\n",
    "    myfile = ZipFile(StringIO(r))\n",
    "    df_csv = myfile.open('%s-citibike-tripdata.csv'%m)\n",
    "    df = pd.read_csv(df_csv)\n",
    "    bike_dict[m] = len(df)\n",
    "bike_dict"
   ]
  },
  {
   "cell_type": "code",
   "execution_count": 5,
   "metadata": {
    "collapsed": false
   },
   "outputs": [
    {
     "data": {
      "text/plain": [
       "{'201307': 843416,\n",
       " '201308': 1001958,\n",
       " '201309': 1034359,\n",
       " '201310': 1037712,\n",
       " '201311': 675774,\n",
       " '201312': 443966,\n",
       " '201401': 300400,\n",
       " '201402': 224736,\n",
       " '201403': 439117,\n",
       " '201404': 670780,\n",
       " '201405': 866117,\n",
       " '201406': 936880,\n",
       " '201407': 968842,\n",
       " '201408': 963489}"
      ]
     },
     "execution_count": 5,
     "metadata": {},
     "output_type": "execute_result"
    }
   ],
   "source": [
    "bike_dict2 = {}\n",
    "for m in bike_months2:\n",
    "    url = 'https://s3.amazonaws.com/tripdata/%s-citibike-tripdata.zip'%m\n",
    "    r = urllib2.urlopen(url).read()\n",
    "    myfile = ZipFile(StringIO(r))\n",
    "    df_csv = myfile.open('%s-%s - Citi Bike trip data.csv'%(m[:4],m[4:]))\n",
    "    df = pd.read_csv(df_csv)\n",
    "    bike_dict2[m] = len(df)\n",
    "bike_dict2"
   ]
  },
  {
   "cell_type": "code",
   "execution_count": 6,
   "metadata": {
    "collapsed": true
   },
   "outputs": [],
   "source": [
    "num_of_trips = bike_dict2.copy()\n",
    "num_of_trips.update(bike_dict)"
   ]
  },
  {
   "cell_type": "code",
   "execution_count": 12,
   "metadata": {
    "collapsed": false
   },
   "outputs": [
    {
     "data": {
      "text/plain": [
       "{'2013-07': 843416,\n",
       " '2013-08': 1001958,\n",
       " '2013-09': 1034359,\n",
       " '2013-10': 1037712,\n",
       " '2013-11': 675774,\n",
       " '2013-12': 443966,\n",
       " '2014-01': 300400,\n",
       " '2014-02': 224736,\n",
       " '2014-03': 439117,\n",
       " '2014-04': 670780,\n",
       " '2014-05': 866117,\n",
       " '2014-06': 936880,\n",
       " '2014-07': 968842,\n",
       " '2014-08': 963489,\n",
       " '2014-09': 953887,\n",
       " '2014-10': 828711,\n",
       " '2014-11': 529188,\n",
       " '2014-12': 399069,\n",
       " '2015-01': 285552,\n",
       " '2015-02': 196930,\n",
       " '2015-03': 341826,\n",
       " '2015-04': 652390,\n",
       " '2015-05': 961986,\n",
       " '2015-06': 941219,\n",
       " '2015-07': 1085676,\n",
       " '2015-08': 1179044,\n",
       " '2015-09': 1289699,\n",
       " '2015-10': 1212277,\n",
       " '2015-11': 987245}"
      ]
     },
     "execution_count": 12,
     "metadata": {},
     "output_type": "execute_result"
    }
   ],
   "source": [
    "for i in num_of_trips.keys():\n",
    "    num_of_trips[i[:4]+'-'+i[4:]] = num_of_trips.pop(i)\n",
    "num_of_trips"
   ]
  },
  {
   "cell_type": "code",
   "execution_count": 17,
   "metadata": {
    "collapsed": false
   },
   "outputs": [
    {
     "data": {
      "text/html": [
       "<div>\n",
       "<table border=\"1\" class=\"dataframe\">\n",
       "  <thead>\n",
       "    <tr style=\"text-align: right;\">\n",
       "      <th></th>\n",
       "      <th>Month</th>\n",
       "      <th>Num_of_trips</th>\n",
       "    </tr>\n",
       "  </thead>\n",
       "  <tbody>\n",
       "    <tr>\n",
       "      <th>0</th>\n",
       "      <td>2014-09</td>\n",
       "      <td>953887</td>\n",
       "    </tr>\n",
       "    <tr>\n",
       "      <th>1</th>\n",
       "      <td>2014-08</td>\n",
       "      <td>963489</td>\n",
       "    </tr>\n",
       "    <tr>\n",
       "      <th>2</th>\n",
       "      <td>2014-05</td>\n",
       "      <td>866117</td>\n",
       "    </tr>\n",
       "    <tr>\n",
       "      <th>3</th>\n",
       "      <td>2014-04</td>\n",
       "      <td>670780</td>\n",
       "    </tr>\n",
       "    <tr>\n",
       "      <th>4</th>\n",
       "      <td>2014-07</td>\n",
       "      <td>968842</td>\n",
       "    </tr>\n",
       "    <tr>\n",
       "      <th>5</th>\n",
       "      <td>2014-06</td>\n",
       "      <td>936880</td>\n",
       "    </tr>\n",
       "    <tr>\n",
       "      <th>6</th>\n",
       "      <td>2014-01</td>\n",
       "      <td>300400</td>\n",
       "    </tr>\n",
       "    <tr>\n",
       "      <th>7</th>\n",
       "      <td>2014-03</td>\n",
       "      <td>439117</td>\n",
       "    </tr>\n",
       "    <tr>\n",
       "      <th>8</th>\n",
       "      <td>2014-02</td>\n",
       "      <td>224736</td>\n",
       "    </tr>\n",
       "    <tr>\n",
       "      <th>9</th>\n",
       "      <td>2013-08</td>\n",
       "      <td>1001958</td>\n",
       "    </tr>\n",
       "    <tr>\n",
       "      <th>10</th>\n",
       "      <td>2013-09</td>\n",
       "      <td>1034359</td>\n",
       "    </tr>\n",
       "    <tr>\n",
       "      <th>11</th>\n",
       "      <td>2015-11</td>\n",
       "      <td>987245</td>\n",
       "    </tr>\n",
       "    <tr>\n",
       "      <th>12</th>\n",
       "      <td>2015-10</td>\n",
       "      <td>1212277</td>\n",
       "    </tr>\n",
       "    <tr>\n",
       "      <th>13</th>\n",
       "      <td>2013-07</td>\n",
       "      <td>843416</td>\n",
       "    </tr>\n",
       "    <tr>\n",
       "      <th>14</th>\n",
       "      <td>2015-06</td>\n",
       "      <td>941219</td>\n",
       "    </tr>\n",
       "    <tr>\n",
       "      <th>15</th>\n",
       "      <td>2015-07</td>\n",
       "      <td>1085676</td>\n",
       "    </tr>\n",
       "    <tr>\n",
       "      <th>16</th>\n",
       "      <td>2015-04</td>\n",
       "      <td>652390</td>\n",
       "    </tr>\n",
       "    <tr>\n",
       "      <th>17</th>\n",
       "      <td>2015-05</td>\n",
       "      <td>961986</td>\n",
       "    </tr>\n",
       "    <tr>\n",
       "      <th>18</th>\n",
       "      <td>2015-02</td>\n",
       "      <td>196930</td>\n",
       "    </tr>\n",
       "    <tr>\n",
       "      <th>19</th>\n",
       "      <td>2015-03</td>\n",
       "      <td>341826</td>\n",
       "    </tr>\n",
       "    <tr>\n",
       "      <th>20</th>\n",
       "      <td>2015-01</td>\n",
       "      <td>285552</td>\n",
       "    </tr>\n",
       "    <tr>\n",
       "      <th>21</th>\n",
       "      <td>2014-12</td>\n",
       "      <td>399069</td>\n",
       "    </tr>\n",
       "    <tr>\n",
       "      <th>22</th>\n",
       "      <td>2014-10</td>\n",
       "      <td>828711</td>\n",
       "    </tr>\n",
       "    <tr>\n",
       "      <th>23</th>\n",
       "      <td>2014-11</td>\n",
       "      <td>529188</td>\n",
       "    </tr>\n",
       "    <tr>\n",
       "      <th>24</th>\n",
       "      <td>2015-08</td>\n",
       "      <td>1179044</td>\n",
       "    </tr>\n",
       "    <tr>\n",
       "      <th>25</th>\n",
       "      <td>2015-09</td>\n",
       "      <td>1289699</td>\n",
       "    </tr>\n",
       "    <tr>\n",
       "      <th>26</th>\n",
       "      <td>2013-12</td>\n",
       "      <td>443966</td>\n",
       "    </tr>\n",
       "    <tr>\n",
       "      <th>27</th>\n",
       "      <td>2013-11</td>\n",
       "      <td>675774</td>\n",
       "    </tr>\n",
       "    <tr>\n",
       "      <th>28</th>\n",
       "      <td>2013-10</td>\n",
       "      <td>1037712</td>\n",
       "    </tr>\n",
       "  </tbody>\n",
       "</table>\n",
       "</div>"
      ],
      "text/plain": [
       "      Month  Num_of_trips\n",
       "0   2014-09        953887\n",
       "1   2014-08        963489\n",
       "2   2014-05        866117\n",
       "3   2014-04        670780\n",
       "4   2014-07        968842\n",
       "5   2014-06        936880\n",
       "6   2014-01        300400\n",
       "7   2014-03        439117\n",
       "8   2014-02        224736\n",
       "9   2013-08       1001958\n",
       "10  2013-09       1034359\n",
       "11  2015-11        987245\n",
       "12  2015-10       1212277\n",
       "13  2013-07        843416\n",
       "14  2015-06        941219\n",
       "15  2015-07       1085676\n",
       "16  2015-04        652390\n",
       "17  2015-05        961986\n",
       "18  2015-02        196930\n",
       "19  2015-03        341826\n",
       "20  2015-01        285552\n",
       "21  2014-12        399069\n",
       "22  2014-10        828711\n",
       "23  2014-11        529188\n",
       "24  2015-08       1179044\n",
       "25  2015-09       1289699\n",
       "26  2013-12        443966\n",
       "27  2013-11        675774\n",
       "28  2013-10       1037712"
      ]
     },
     "execution_count": 17,
     "metadata": {},
     "output_type": "execute_result"
    }
   ],
   "source": [
    "trips = pd.DataFrame(num_of_trips.items(),columns=['Month','Num_of_trips'])\n",
    "trips"
   ]
  },
  {
   "cell_type": "code",
   "execution_count": 19,
   "metadata": {
    "collapsed": false
   },
   "outputs": [
    {
     "data": {
      "text/plain": [
       "0     2014-09-01 00:00:00\n",
       "1     2014-08-01 00:00:00\n",
       "2     2014-05-01 00:00:00\n",
       "3     2014-04-01 00:00:00\n",
       "4     2014-07-01 00:00:00\n",
       "5     2014-06-01 00:00:00\n",
       "6     2014-01-01 00:00:00\n",
       "7     2014-03-01 00:00:00\n",
       "8     2014-02-01 00:00:00\n",
       "9     2013-08-01 00:00:00\n",
       "10    2013-09-01 00:00:00\n",
       "11    2015-11-01 00:00:00\n",
       "12    2015-10-01 00:00:00\n",
       "13    2013-07-01 00:00:00\n",
       "14    2015-06-01 00:00:00\n",
       "15    2015-07-01 00:00:00\n",
       "16    2015-04-01 00:00:00\n",
       "17    2015-05-01 00:00:00\n",
       "18    2015-02-01 00:00:00\n",
       "19    2015-03-01 00:00:00\n",
       "20    2015-01-01 00:00:00\n",
       "21    2014-12-01 00:00:00\n",
       "22    2014-10-01 00:00:00\n",
       "23    2014-11-01 00:00:00\n",
       "24    2015-08-01 00:00:00\n",
       "25    2015-09-01 00:00:00\n",
       "26    2013-12-01 00:00:00\n",
       "27    2013-11-01 00:00:00\n",
       "28    2013-10-01 00:00:00\n",
       "Name: Month, dtype: object"
      ]
     },
     "execution_count": 19,
     "metadata": {},
     "output_type": "execute_result"
    }
   ],
   "source": [
    "for i,j in trips['Month'].iteritems():\n",
    "    trips.loc[i,'Month'] = datetime.datetime.strptime(j, '%Y-%m')\n",
    "trips['Month']"
   ]
  },
  {
   "cell_type": "code",
   "execution_count": 25,
   "metadata": {
    "collapsed": true
   },
   "outputs": [],
   "source": [
    "cbtrips = trips.groupby('Month').mean()['Num_of_trips']"
   ]
  },
  {
   "cell_type": "code",
   "execution_count": 26,
   "metadata": {
    "collapsed": false
   },
   "outputs": [
    {
     "data": {
      "text/plain": [
       "Month\n",
       "2013-07-01     843416\n",
       "2013-08-01    1001958\n",
       "2013-09-01    1034359\n",
       "2013-10-01    1037712\n",
       "2013-11-01     675774\n",
       "2013-12-01     443966\n",
       "2014-01-01     300400\n",
       "2014-02-01     224736\n",
       "2014-03-01     439117\n",
       "2014-04-01     670780\n",
       "2014-05-01     866117\n",
       "2014-06-01     936880\n",
       "2014-07-01     968842\n",
       "2014-08-01     963489\n",
       "2014-09-01     953887\n",
       "2014-10-01     828711\n",
       "2014-11-01     529188\n",
       "2014-12-01     399069\n",
       "2015-01-01     285552\n",
       "2015-02-01     196930\n",
       "2015-03-01     341826\n",
       "2015-04-01     652390\n",
       "2015-05-01     961986\n",
       "2015-06-01     941219\n",
       "2015-07-01    1085676\n",
       "2015-08-01    1179044\n",
       "2015-09-01    1289699\n",
       "2015-10-01    1212277\n",
       "2015-11-01     987245\n",
       "Name: Num_of_trips, dtype: int64"
      ]
     },
     "execution_count": 26,
     "metadata": {},
     "output_type": "execute_result"
    }
   ],
   "source": [
    "cbtrips"
   ]
  },
  {
   "cell_type": "code",
   "execution_count": 28,
   "metadata": {
    "collapsed": false
   },
   "outputs": [
    {
     "data": {
      "text/plain": [
       "<matplotlib.legend.Legend at 0x10fd31710>"
      ]
     },
     "execution_count": 28,
     "metadata": {},
     "output_type": "execute_result"
    },
    {
     "data": {
      "image/png": "[encoded data removed]",
      "text/plain": [
       "<matplotlib.figure.Figure at 0x1101df390>"
      ]
     },
     "metadata": {},
     "output_type": "display_data"
    }
   ],
   "source": [
    "plt.figure(figsize=(16,5))\n",
    "cbtrips.plot(label='Citi Bike trips')\n",
    "plt.title('Number of Citi Bike trips over time')\n",
    "plt.legend(loc=0)"
   ]
  },
  {
   "cell_type": "code",
   "execution_count": 33,
   "metadata": {
    "collapsed": true
   },
   "outputs": [],
   "source": [
    "def convertDate(d):\n",
    "    dt = datetime.datetime.strptime(d, '%m/%d/%Y')\n",
    "    dt = dt.replace(day=1)\n",
    "    return dt\n",
    "\n",
    "df = pd.read_csv('NYPD_Motor_Vehicle_Collisions.csv', converters={'DATE': convertDate})\n",
    "c_inj_agg = df.groupby('DATE').sum()['NUMBER OF CYCLIST INJURED']\n",
    "c_k_agg = df.groupby('DATE').sum()['NUMBER OF CYCLIST KILLED']\n",
    "cyc = c_inj_agg + 10*c_k_agg"
   ]
  },
  {
   "cell_type": "code",
   "execution_count": 60,
   "metadata": {
    "collapsed": false
   },
   "outputs": [
    {
     "data": {
      "text/plain": [
       "<matplotlib.legend.Legend at 0x12a1a07d0>"
      ]
     },
     "execution_count": 60,
     "metadata": {},
     "output_type": "execute_result"
    },
    {
     "data": {
      "image/png": "[encoded data removed]",
      "text/plain": [
       "<matplotlib.figure.Figure at 0x110ee47d0>"
      ]
     },
     "metadata": {},
     "output_type": "display_data"
    }
   ],
   "source": [
    "fig, ax1 = plt.subplots(figsize=(16,5))\n",
    "ax1.plot(cbtrips.index, cbtrips, color='b', label='Number of Citi Bike trips')\n",
    "ax1.legend(loc=3)\n",
    "ax2 = ax1.twinx()\n",
    "cyc_ = cyc[12:-1]\n",
    "ax2.plot(cyc_.index, cyc_, label='Number of accidents (weighted)')\n",
    "plt.title('Number of Citi Bike trips and cyclist accidents over time')\n",
    "plt.xlabel('Months')\n",
    "ax2.legend(loc=4)"
   ]
  },
  {
   "cell_type": "code",
   "execution_count": 55,
   "metadata": {
    "collapsed": false
   },
   "outputs": [
    {
     "name": "stdout",
     "output_type": "stream",
     "text": [
      "Correlation bewteen Citi Bike trips and cyclist accidents: 0.935381167918\n"
     ]
    }
   ],
   "source": [
    "corr=stats.pearsonr(cbtrips,cyc_)[0]\n",
    "print('Correlation bewteen Citi Bike trips and cyclist accidents: {0}'.format(corr))"
   ]
  },
  {
   "cell_type": "code",
   "execution_count": null,
   "metadata": {
    "collapsed": true
   },
   "outputs": [],
   "source": []
  }
 ],
 "metadata": {
  "kernelspec": {
   "display_name": "Python 2",
   "language": "python",
   "name": "python2"
  },
  "language_info": {
   "codemirror_mode": {
    "name": "ipython",
    "version": 2
   },
   "file_extension": ".py",
   "mimetype": "text/x-python",
   "name": "python",
   "nbconvert_exporter": "python",
   "pygments_lexer": "ipython2",
   "version": "2.7.10"
  }
 },
 "nbformat": 4,
 "nbformat_minor": 0
}
